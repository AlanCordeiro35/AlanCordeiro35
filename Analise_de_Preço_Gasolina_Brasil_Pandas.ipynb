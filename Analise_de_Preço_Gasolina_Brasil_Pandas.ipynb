{
  "nbformat": 4,
  "nbformat_minor": 0,
  "metadata": {
    "colab": {
      "name": "Analise_de_Preço_Gasolina_Brasil_Pandas.ipynb",
      "provenance": [],
      "authorship_tag": "ABX9TyNaxpoo8mcaEYH4ycYrUqTx",
      "include_colab_link": true
    },
    "kernelspec": {
      "name": "python3",
      "display_name": "Python 3"
    },
    "language_info": {
      "name": "python"
    }
  },
  "cells": [
    {
      "cell_type": "markdown",
      "metadata": {
        "id": "view-in-github",
        "colab_type": "text"
      },
      "source": [
        "<a href=\"https://colab.research.google.com/github/AlanCordeiro35/AlanCordeiro35/blob/master/Analise_de_Pre%C3%A7o_Gasolina_Brasil_Pandas.ipynb\" target=\"_parent\"><img src=\"https://colab.research.google.com/assets/colab-badge.svg\" alt=\"Open In Colab\"/></a>"
      ]
    },
    {
      "cell_type": "code",
      "metadata": {
        "id": "Df0iS0lqRTC5"
      },
      "source": [
        "#importar o pandas\n",
        "import pandas as pd\n",
        "\n",
        "#Salvar o endereço na variavel url\n",
        "url = 'https://www.gov.br/anp/pt-br/centrais-de-conteudo/dados-abertos/arquivos/shpc/dsan/2021/2021-08-gasolina-etanol.csv/@@download/file/2021-08-gasolina-etanol.csv'\n",
        "\n",
        "# ler a url e salvar os dados na variável df_original\n",
        "df_original = pd.read_csv(url, sep = ';', decimal = ',')"
      ],
      "execution_count": 27,
      "outputs": []
    },
    {
      "cell_type": "code",
      "metadata": {
        "colab": {
          "base_uri": "https://localhost:8080/"
        },
        "id": "bRiZUScBSf6o",
        "outputId": "8217ce91-8be3-41af-928d-5f9ef161d4b0"
      },
      "source": [
        "#Verificando a quantidade de colunas\n",
        "df_original.columns"
      ],
      "execution_count": 28,
      "outputs": [
        {
          "output_type": "execute_result",
          "data": {
            "text/plain": [
              "Index(['Região - Sigla', 'Estado - Sigla', 'Município', 'Revenda',\n",
              "       'CNPJ da Revenda', 'Nome da Rua', 'Número Rua', 'Complemento', 'Bairro',\n",
              "       'Cep', 'Produto', 'Data da Coleta', 'Valor de Venda', 'Valor de Compra',\n",
              "       'Unidade de Medida', 'Bandeira'],\n",
              "      dtype='object')"
            ]
          },
          "metadata": {},
          "execution_count": 28
        }
      ]
    },
    {
      "cell_type": "code",
      "metadata": {
        "colab": {
          "base_uri": "https://localhost:8080/",
          "height": 419
        },
        "id": "rhKbOXghpk3h",
        "outputId": "b39fa105-38a9-4a0c-fb1f-a77053488f44"
      },
      "source": [
        "#Pegando apenas as colunas necessarias\n",
        "meu_df = df_original[['Estado - Sigla', 'Município','Produto','Valor de Venda','Bandeira','Data da Coleta']]\n",
        "meu_df"
      ],
      "execution_count": 3,
      "outputs": [
        {
          "output_type": "execute_result",
          "data": {
            "text/html": [
              "<div>\n",
              "<style scoped>\n",
              "    .dataframe tbody tr th:only-of-type {\n",
              "        vertical-align: middle;\n",
              "    }\n",
              "\n",
              "    .dataframe tbody tr th {\n",
              "        vertical-align: top;\n",
              "    }\n",
              "\n",
              "    .dataframe thead th {\n",
              "        text-align: right;\n",
              "    }\n",
              "</style>\n",
              "<table border=\"1\" class=\"dataframe\">\n",
              "  <thead>\n",
              "    <tr style=\"text-align: right;\">\n",
              "      <th></th>\n",
              "      <th>Estado - Sigla</th>\n",
              "      <th>Município</th>\n",
              "      <th>Produto</th>\n",
              "      <th>Valor de Venda</th>\n",
              "      <th>Bandeira</th>\n",
              "      <th>Data da Coleta</th>\n",
              "    </tr>\n",
              "  </thead>\n",
              "  <tbody>\n",
              "    <tr>\n",
              "      <th>0</th>\n",
              "      <td>BA</td>\n",
              "      <td>ILHEUS</td>\n",
              "      <td>GASOLINA</td>\n",
              "      <td>6.140</td>\n",
              "      <td>BRANCA</td>\n",
              "      <td>01/08/2021</td>\n",
              "    </tr>\n",
              "    <tr>\n",
              "      <th>1</th>\n",
              "      <td>BA</td>\n",
              "      <td>ILHEUS</td>\n",
              "      <td>ETANOL</td>\n",
              "      <td>5.150</td>\n",
              "      <td>BRANCA</td>\n",
              "      <td>01/08/2021</td>\n",
              "    </tr>\n",
              "    <tr>\n",
              "      <th>2</th>\n",
              "      <td>BA</td>\n",
              "      <td>ILHEUS</td>\n",
              "      <td>GASOLINA ADITIVADA</td>\n",
              "      <td>6.140</td>\n",
              "      <td>BRANCA</td>\n",
              "      <td>01/08/2021</td>\n",
              "    </tr>\n",
              "    <tr>\n",
              "      <th>3</th>\n",
              "      <td>BA</td>\n",
              "      <td>ILHEUS</td>\n",
              "      <td>GASOLINA</td>\n",
              "      <td>6.130</td>\n",
              "      <td>BRANCA</td>\n",
              "      <td>01/08/2021</td>\n",
              "    </tr>\n",
              "    <tr>\n",
              "      <th>4</th>\n",
              "      <td>BA</td>\n",
              "      <td>ILHEUS</td>\n",
              "      <td>ETANOL</td>\n",
              "      <td>5.130</td>\n",
              "      <td>BRANCA</td>\n",
              "      <td>01/08/2021</td>\n",
              "    </tr>\n",
              "    <tr>\n",
              "      <th>...</th>\n",
              "      <td>...</td>\n",
              "      <td>...</td>\n",
              "      <td>...</td>\n",
              "      <td>...</td>\n",
              "      <td>...</td>\n",
              "      <td>...</td>\n",
              "    </tr>\n",
              "    <tr>\n",
              "      <th>53980</th>\n",
              "      <td>RS</td>\n",
              "      <td>PORTO ALEGRE</td>\n",
              "      <td>GASOLINA</td>\n",
              "      <td>6.397</td>\n",
              "      <td>RAIZEN</td>\n",
              "      <td>31/08/2021</td>\n",
              "    </tr>\n",
              "    <tr>\n",
              "      <th>53981</th>\n",
              "      <td>RS</td>\n",
              "      <td>PORTO ALEGRE</td>\n",
              "      <td>GASOLINA ADITIVADA</td>\n",
              "      <td>6.597</td>\n",
              "      <td>RAIZEN</td>\n",
              "      <td>31/08/2021</td>\n",
              "    </tr>\n",
              "    <tr>\n",
              "      <th>53982</th>\n",
              "      <td>ES</td>\n",
              "      <td>ARACRUZ</td>\n",
              "      <td>GASOLINA</td>\n",
              "      <td>5.970</td>\n",
              "      <td>BRANCA</td>\n",
              "      <td>31/08/2021</td>\n",
              "    </tr>\n",
              "    <tr>\n",
              "      <th>53983</th>\n",
              "      <td>ES</td>\n",
              "      <td>ARACRUZ</td>\n",
              "      <td>ETANOL</td>\n",
              "      <td>4.990</td>\n",
              "      <td>BRANCA</td>\n",
              "      <td>31/08/2021</td>\n",
              "    </tr>\n",
              "    <tr>\n",
              "      <th>53984</th>\n",
              "      <td>ES</td>\n",
              "      <td>ARACRUZ</td>\n",
              "      <td>GASOLINA ADITIVADA</td>\n",
              "      <td>5.970</td>\n",
              "      <td>BRANCA</td>\n",
              "      <td>31/08/2021</td>\n",
              "    </tr>\n",
              "  </tbody>\n",
              "</table>\n",
              "<p>53985 rows × 6 columns</p>\n",
              "</div>"
            ],
            "text/plain": [
              "      Estado - Sigla     Município  ... Bandeira  Data da Coleta\n",
              "0                 BA        ILHEUS  ...   BRANCA      01/08/2021\n",
              "1                 BA        ILHEUS  ...   BRANCA      01/08/2021\n",
              "2                 BA        ILHEUS  ...   BRANCA      01/08/2021\n",
              "3                 BA        ILHEUS  ...   BRANCA      01/08/2021\n",
              "4                 BA        ILHEUS  ...   BRANCA      01/08/2021\n",
              "...              ...           ...  ...      ...             ...\n",
              "53980             RS  PORTO ALEGRE  ...   RAIZEN      31/08/2021\n",
              "53981             RS  PORTO ALEGRE  ...   RAIZEN      31/08/2021\n",
              "53982             ES       ARACRUZ  ...   BRANCA      31/08/2021\n",
              "53983             ES       ARACRUZ  ...   BRANCA      31/08/2021\n",
              "53984             ES       ARACRUZ  ...   BRANCA      31/08/2021\n",
              "\n",
              "[53985 rows x 6 columns]"
            ]
          },
          "metadata": {},
          "execution_count": 3
        }
      ]
    },
    {
      "cell_type": "code",
      "metadata": {
        "colab": {
          "base_uri": "https://localhost:8080/",
          "height": 204
        },
        "id": "WuHTjBqnqf6w",
        "outputId": "4d0bf050-54cd-4a8f-f7df-8f5f6a764eb5"
      },
      "source": [
        "#Visualizar apenas os 5 primeiros registros\n",
        "meu_df.head()"
      ],
      "execution_count": 4,
      "outputs": [
        {
          "output_type": "execute_result",
          "data": {
            "text/html": [
              "<div>\n",
              "<style scoped>\n",
              "    .dataframe tbody tr th:only-of-type {\n",
              "        vertical-align: middle;\n",
              "    }\n",
              "\n",
              "    .dataframe tbody tr th {\n",
              "        vertical-align: top;\n",
              "    }\n",
              "\n",
              "    .dataframe thead th {\n",
              "        text-align: right;\n",
              "    }\n",
              "</style>\n",
              "<table border=\"1\" class=\"dataframe\">\n",
              "  <thead>\n",
              "    <tr style=\"text-align: right;\">\n",
              "      <th></th>\n",
              "      <th>Estado - Sigla</th>\n",
              "      <th>Município</th>\n",
              "      <th>Produto</th>\n",
              "      <th>Valor de Venda</th>\n",
              "      <th>Bandeira</th>\n",
              "      <th>Data da Coleta</th>\n",
              "    </tr>\n",
              "  </thead>\n",
              "  <tbody>\n",
              "    <tr>\n",
              "      <th>0</th>\n",
              "      <td>BA</td>\n",
              "      <td>ILHEUS</td>\n",
              "      <td>GASOLINA</td>\n",
              "      <td>6.14</td>\n",
              "      <td>BRANCA</td>\n",
              "      <td>01/08/2021</td>\n",
              "    </tr>\n",
              "    <tr>\n",
              "      <th>1</th>\n",
              "      <td>BA</td>\n",
              "      <td>ILHEUS</td>\n",
              "      <td>ETANOL</td>\n",
              "      <td>5.15</td>\n",
              "      <td>BRANCA</td>\n",
              "      <td>01/08/2021</td>\n",
              "    </tr>\n",
              "    <tr>\n",
              "      <th>2</th>\n",
              "      <td>BA</td>\n",
              "      <td>ILHEUS</td>\n",
              "      <td>GASOLINA ADITIVADA</td>\n",
              "      <td>6.14</td>\n",
              "      <td>BRANCA</td>\n",
              "      <td>01/08/2021</td>\n",
              "    </tr>\n",
              "    <tr>\n",
              "      <th>3</th>\n",
              "      <td>BA</td>\n",
              "      <td>ILHEUS</td>\n",
              "      <td>GASOLINA</td>\n",
              "      <td>6.13</td>\n",
              "      <td>BRANCA</td>\n",
              "      <td>01/08/2021</td>\n",
              "    </tr>\n",
              "    <tr>\n",
              "      <th>4</th>\n",
              "      <td>BA</td>\n",
              "      <td>ILHEUS</td>\n",
              "      <td>ETANOL</td>\n",
              "      <td>5.13</td>\n",
              "      <td>BRANCA</td>\n",
              "      <td>01/08/2021</td>\n",
              "    </tr>\n",
              "  </tbody>\n",
              "</table>\n",
              "</div>"
            ],
            "text/plain": [
              "  Estado - Sigla Município  ... Bandeira  Data da Coleta\n",
              "0             BA    ILHEUS  ...   BRANCA      01/08/2021\n",
              "1             BA    ILHEUS  ...   BRANCA      01/08/2021\n",
              "2             BA    ILHEUS  ...   BRANCA      01/08/2021\n",
              "3             BA    ILHEUS  ...   BRANCA      01/08/2021\n",
              "4             BA    ILHEUS  ...   BRANCA      01/08/2021\n",
              "\n",
              "[5 rows x 6 columns]"
            ]
          },
          "metadata": {},
          "execution_count": 4
        }
      ]
    },
    {
      "cell_type": "code",
      "metadata": {
        "colab": {
          "base_uri": "https://localhost:8080/"
        },
        "id": "pfUuAX75q-1K",
        "outputId": "4e501164-afac-4225-f770-3b4030519203"
      },
      "source": [
        "#Verificando informações e tipo dos dados\n",
        "meu_df.info()"
      ],
      "execution_count": 5,
      "outputs": [
        {
          "output_type": "stream",
          "name": "stdout",
          "text": [
            "<class 'pandas.core.frame.DataFrame'>\n",
            "RangeIndex: 53985 entries, 0 to 53984\n",
            "Data columns (total 6 columns):\n",
            " #   Column          Non-Null Count  Dtype  \n",
            "---  ------          --------------  -----  \n",
            " 0   Estado - Sigla  53985 non-null  object \n",
            " 1   Município       53985 non-null  object \n",
            " 2   Produto         53985 non-null  object \n",
            " 3   Valor de Venda  53985 non-null  float64\n",
            " 4   Bandeira        53985 non-null  object \n",
            " 5   Data da Coleta  53985 non-null  object \n",
            "dtypes: float64(1), object(5)\n",
            "memory usage: 2.5+ MB\n"
          ]
        }
      ]
    },
    {
      "cell_type": "code",
      "metadata": {
        "colab": {
          "base_uri": "https://localhost:8080/"
        },
        "id": "Z2rX9sUQtgPq",
        "outputId": "4a035fe3-78f4-45f1-cef9-840b14f3440b"
      },
      "source": [
        "#Para converter os valores da ‘Data da Coleta’ para datetime, vamos usar o pd.to_datetime(), passando para o parâmetro dayfirst True:\n",
        "meu_df['Data da Coleta'] = pd.to_datetime(meu_df['Data da Coleta'], dayfirst=True)"
      ],
      "execution_count": 6,
      "outputs": [
        {
          "output_type": "stream",
          "name": "stderr",
          "text": [
            "/usr/local/lib/python3.7/dist-packages/ipykernel_launcher.py:2: SettingWithCopyWarning: \n",
            "A value is trying to be set on a copy of a slice from a DataFrame.\n",
            "Try using .loc[row_indexer,col_indexer] = value instead\n",
            "\n",
            "See the caveats in the documentation: https://pandas.pydata.org/pandas-docs/stable/user_guide/indexing.html#returning-a-view-versus-a-copy\n",
            "  \n"
          ]
        }
      ]
    },
    {
      "cell_type": "code",
      "metadata": {
        "colab": {
          "base_uri": "https://localhost:8080/",
          "height": 204
        },
        "id": "FTI3Cnu89MQ5",
        "outputId": "4782d5d8-a6ef-47f1-8b07-bdb605e59a1d"
      },
      "source": [
        "#Query para selecionar municipios igual SP e exibir somente os 5 primeiros registros\n",
        "meu_df.query('Município == \"SAO PAULO\"').head()"
      ],
      "execution_count": 7,
      "outputs": [
        {
          "output_type": "execute_result",
          "data": {
            "text/html": [
              "<div>\n",
              "<style scoped>\n",
              "    .dataframe tbody tr th:only-of-type {\n",
              "        vertical-align: middle;\n",
              "    }\n",
              "\n",
              "    .dataframe tbody tr th {\n",
              "        vertical-align: top;\n",
              "    }\n",
              "\n",
              "    .dataframe thead th {\n",
              "        text-align: right;\n",
              "    }\n",
              "</style>\n",
              "<table border=\"1\" class=\"dataframe\">\n",
              "  <thead>\n",
              "    <tr style=\"text-align: right;\">\n",
              "      <th></th>\n",
              "      <th>Estado - Sigla</th>\n",
              "      <th>Município</th>\n",
              "      <th>Produto</th>\n",
              "      <th>Valor de Venda</th>\n",
              "      <th>Bandeira</th>\n",
              "      <th>Data da Coleta</th>\n",
              "    </tr>\n",
              "  </thead>\n",
              "  <tbody>\n",
              "    <tr>\n",
              "      <th>2764</th>\n",
              "      <td>SP</td>\n",
              "      <td>SAO PAULO</td>\n",
              "      <td>GASOLINA</td>\n",
              "      <td>5.199</td>\n",
              "      <td>ALESAT</td>\n",
              "      <td>2021-08-02</td>\n",
              "    </tr>\n",
              "    <tr>\n",
              "      <th>2765</th>\n",
              "      <td>SP</td>\n",
              "      <td>SAO PAULO</td>\n",
              "      <td>ETANOL</td>\n",
              "      <td>3.999</td>\n",
              "      <td>ALESAT</td>\n",
              "      <td>2021-08-02</td>\n",
              "    </tr>\n",
              "    <tr>\n",
              "      <th>2766</th>\n",
              "      <td>SP</td>\n",
              "      <td>SAO PAULO</td>\n",
              "      <td>GASOLINA ADITIVADA</td>\n",
              "      <td>5.399</td>\n",
              "      <td>ALESAT</td>\n",
              "      <td>2021-08-02</td>\n",
              "    </tr>\n",
              "    <tr>\n",
              "      <th>4950</th>\n",
              "      <td>SP</td>\n",
              "      <td>SAO PAULO</td>\n",
              "      <td>ETANOL</td>\n",
              "      <td>3.899</td>\n",
              "      <td>BRANCA</td>\n",
              "      <td>2021-08-03</td>\n",
              "    </tr>\n",
              "    <tr>\n",
              "      <th>4951</th>\n",
              "      <td>SP</td>\n",
              "      <td>SAO PAULO</td>\n",
              "      <td>GASOLINA</td>\n",
              "      <td>5.299</td>\n",
              "      <td>BRANCA</td>\n",
              "      <td>2021-08-03</td>\n",
              "    </tr>\n",
              "  </tbody>\n",
              "</table>\n",
              "</div>"
            ],
            "text/plain": [
              "     Estado - Sigla  Município  ... Bandeira  Data da Coleta\n",
              "2764             SP  SAO PAULO  ...   ALESAT      2021-08-02\n",
              "2765             SP  SAO PAULO  ...   ALESAT      2021-08-02\n",
              "2766             SP  SAO PAULO  ...   ALESAT      2021-08-02\n",
              "4950             SP  SAO PAULO  ...   BRANCA      2021-08-03\n",
              "4951             SP  SAO PAULO  ...   BRANCA      2021-08-03\n",
              "\n",
              "[5 rows x 6 columns]"
            ]
          },
          "metadata": {},
          "execution_count": 7
        }
      ]
    },
    {
      "cell_type": "code",
      "metadata": {
        "colab": {
          "base_uri": "https://localhost:8080/",
          "height": 204
        },
        "id": "DDqMcosE-NKg",
        "outputId": "de6d8127-2f84-451e-df51-aeec7f6f5c39"
      },
      "source": [
        "meu_df.query('`Valor de Venda` == 5.199').head()"
      ],
      "execution_count": 8,
      "outputs": [
        {
          "output_type": "execute_result",
          "data": {
            "text/html": [
              "<div>\n",
              "<style scoped>\n",
              "    .dataframe tbody tr th:only-of-type {\n",
              "        vertical-align: middle;\n",
              "    }\n",
              "\n",
              "    .dataframe tbody tr th {\n",
              "        vertical-align: top;\n",
              "    }\n",
              "\n",
              "    .dataframe thead th {\n",
              "        text-align: right;\n",
              "    }\n",
              "</style>\n",
              "<table border=\"1\" class=\"dataframe\">\n",
              "  <thead>\n",
              "    <tr style=\"text-align: right;\">\n",
              "      <th></th>\n",
              "      <th>Estado - Sigla</th>\n",
              "      <th>Município</th>\n",
              "      <th>Produto</th>\n",
              "      <th>Valor de Venda</th>\n",
              "      <th>Bandeira</th>\n",
              "      <th>Data da Coleta</th>\n",
              "    </tr>\n",
              "  </thead>\n",
              "  <tbody>\n",
              "    <tr>\n",
              "      <th>29</th>\n",
              "      <td>ES</td>\n",
              "      <td>SERRA</td>\n",
              "      <td>ETANOL</td>\n",
              "      <td>5.199</td>\n",
              "      <td>ALESAT</td>\n",
              "      <td>2021-08-01</td>\n",
              "    </tr>\n",
              "    <tr>\n",
              "      <th>53</th>\n",
              "      <td>ES</td>\n",
              "      <td>VITORIA</td>\n",
              "      <td>ETANOL</td>\n",
              "      <td>5.199</td>\n",
              "      <td>PETROBRAS DISTRIBUIDORA S.A.</td>\n",
              "      <td>2021-08-01</td>\n",
              "    </tr>\n",
              "    <tr>\n",
              "      <th>62</th>\n",
              "      <td>ES</td>\n",
              "      <td>VITORIA</td>\n",
              "      <td>ETANOL</td>\n",
              "      <td>5.199</td>\n",
              "      <td>RAIZEN</td>\n",
              "      <td>2021-08-01</td>\n",
              "    </tr>\n",
              "    <tr>\n",
              "      <th>80</th>\n",
              "      <td>ES</td>\n",
              "      <td>VITORIA</td>\n",
              "      <td>ETANOL</td>\n",
              "      <td>5.199</td>\n",
              "      <td>PETROBRAS DISTRIBUIDORA S.A.</td>\n",
              "      <td>2021-08-01</td>\n",
              "    </tr>\n",
              "    <tr>\n",
              "      <th>133</th>\n",
              "      <td>PA</td>\n",
              "      <td>ABAETETUBA</td>\n",
              "      <td>ETANOL</td>\n",
              "      <td>5.199</td>\n",
              "      <td>BRANCA</td>\n",
              "      <td>2021-08-01</td>\n",
              "    </tr>\n",
              "  </tbody>\n",
              "</table>\n",
              "</div>"
            ],
            "text/plain": [
              "    Estado - Sigla   Município  ...                      Bandeira  Data da Coleta\n",
              "29              ES       SERRA  ...                        ALESAT      2021-08-01\n",
              "53              ES     VITORIA  ...  PETROBRAS DISTRIBUIDORA S.A.      2021-08-01\n",
              "62              ES     VITORIA  ...                        RAIZEN      2021-08-01\n",
              "80              ES     VITORIA  ...  PETROBRAS DISTRIBUIDORA S.A.      2021-08-01\n",
              "133             PA  ABAETETUBA  ...                        BRANCA      2021-08-01\n",
              "\n",
              "[5 rows x 6 columns]"
            ]
          },
          "metadata": {},
          "execution_count": 8
        }
      ]
    },
    {
      "cell_type": "code",
      "metadata": {
        "colab": {
          "base_uri": "https://localhost:8080/",
          "height": 49
        },
        "id": "X36ay4wV-vjF",
        "outputId": "b000d49a-f22d-4343-f051-9c994c774a29"
      },
      "source": [
        "meu_df.query('`Data da Coleta` == \"2021-07-05\"').head()"
      ],
      "execution_count": 9,
      "outputs": [
        {
          "output_type": "execute_result",
          "data": {
            "text/html": [
              "<div>\n",
              "<style scoped>\n",
              "    .dataframe tbody tr th:only-of-type {\n",
              "        vertical-align: middle;\n",
              "    }\n",
              "\n",
              "    .dataframe tbody tr th {\n",
              "        vertical-align: top;\n",
              "    }\n",
              "\n",
              "    .dataframe thead th {\n",
              "        text-align: right;\n",
              "    }\n",
              "</style>\n",
              "<table border=\"1\" class=\"dataframe\">\n",
              "  <thead>\n",
              "    <tr style=\"text-align: right;\">\n",
              "      <th></th>\n",
              "      <th>Estado - Sigla</th>\n",
              "      <th>Município</th>\n",
              "      <th>Produto</th>\n",
              "      <th>Valor de Venda</th>\n",
              "      <th>Bandeira</th>\n",
              "      <th>Data da Coleta</th>\n",
              "    </tr>\n",
              "  </thead>\n",
              "  <tbody>\n",
              "  </tbody>\n",
              "</table>\n",
              "</div>"
            ],
            "text/plain": [
              "Empty DataFrame\n",
              "Columns: [Estado - Sigla, Município, Produto, Valor de Venda, Bandeira, Data da Coleta]\n",
              "Index: []"
            ]
          },
          "metadata": {},
          "execution_count": 9
        }
      ]
    },
    {
      "cell_type": "code",
      "metadata": {
        "colab": {
          "base_uri": "https://localhost:8080/"
        },
        "id": "t54XezfA5rsa",
        "outputId": "f728a1f5-8caa-4192-d36f-bbd751ebd491"
      },
      "source": [
        "\n",
        "meu_df.query('Bandeira == \"IPIRANGA\" and Município == \"SAO PAULO\"')['Valor de Venda'].max()"
      ],
      "execution_count": 10,
      "outputs": [
        {
          "output_type": "execute_result",
          "data": {
            "text/plain": [
              "6.649"
            ]
          },
          "metadata": {},
          "execution_count": 10
        }
      ]
    },
    {
      "cell_type": "code",
      "metadata": {
        "colab": {
          "base_uri": "https://localhost:8080/",
          "height": 204
        },
        "id": "nVLNTRry6G1w",
        "outputId": "6b7c306a-34e6-4557-dd84-d39279db54eb"
      },
      "source": [
        "meu_df.query('`Valor de Venda` == 5.199').head()"
      ],
      "execution_count": 11,
      "outputs": [
        {
          "output_type": "execute_result",
          "data": {
            "text/html": [
              "<div>\n",
              "<style scoped>\n",
              "    .dataframe tbody tr th:only-of-type {\n",
              "        vertical-align: middle;\n",
              "    }\n",
              "\n",
              "    .dataframe tbody tr th {\n",
              "        vertical-align: top;\n",
              "    }\n",
              "\n",
              "    .dataframe thead th {\n",
              "        text-align: right;\n",
              "    }\n",
              "</style>\n",
              "<table border=\"1\" class=\"dataframe\">\n",
              "  <thead>\n",
              "    <tr style=\"text-align: right;\">\n",
              "      <th></th>\n",
              "      <th>Estado - Sigla</th>\n",
              "      <th>Município</th>\n",
              "      <th>Produto</th>\n",
              "      <th>Valor de Venda</th>\n",
              "      <th>Bandeira</th>\n",
              "      <th>Data da Coleta</th>\n",
              "    </tr>\n",
              "  </thead>\n",
              "  <tbody>\n",
              "    <tr>\n",
              "      <th>29</th>\n",
              "      <td>ES</td>\n",
              "      <td>SERRA</td>\n",
              "      <td>ETANOL</td>\n",
              "      <td>5.199</td>\n",
              "      <td>ALESAT</td>\n",
              "      <td>2021-08-01</td>\n",
              "    </tr>\n",
              "    <tr>\n",
              "      <th>53</th>\n",
              "      <td>ES</td>\n",
              "      <td>VITORIA</td>\n",
              "      <td>ETANOL</td>\n",
              "      <td>5.199</td>\n",
              "      <td>PETROBRAS DISTRIBUIDORA S.A.</td>\n",
              "      <td>2021-08-01</td>\n",
              "    </tr>\n",
              "    <tr>\n",
              "      <th>62</th>\n",
              "      <td>ES</td>\n",
              "      <td>VITORIA</td>\n",
              "      <td>ETANOL</td>\n",
              "      <td>5.199</td>\n",
              "      <td>RAIZEN</td>\n",
              "      <td>2021-08-01</td>\n",
              "    </tr>\n",
              "    <tr>\n",
              "      <th>80</th>\n",
              "      <td>ES</td>\n",
              "      <td>VITORIA</td>\n",
              "      <td>ETANOL</td>\n",
              "      <td>5.199</td>\n",
              "      <td>PETROBRAS DISTRIBUIDORA S.A.</td>\n",
              "      <td>2021-08-01</td>\n",
              "    </tr>\n",
              "    <tr>\n",
              "      <th>133</th>\n",
              "      <td>PA</td>\n",
              "      <td>ABAETETUBA</td>\n",
              "      <td>ETANOL</td>\n",
              "      <td>5.199</td>\n",
              "      <td>BRANCA</td>\n",
              "      <td>2021-08-01</td>\n",
              "    </tr>\n",
              "  </tbody>\n",
              "</table>\n",
              "</div>"
            ],
            "text/plain": [
              "    Estado - Sigla   Município  ...                      Bandeira  Data da Coleta\n",
              "29              ES       SERRA  ...                        ALESAT      2021-08-01\n",
              "53              ES     VITORIA  ...  PETROBRAS DISTRIBUIDORA S.A.      2021-08-01\n",
              "62              ES     VITORIA  ...                        RAIZEN      2021-08-01\n",
              "80              ES     VITORIA  ...  PETROBRAS DISTRIBUIDORA S.A.      2021-08-01\n",
              "133             PA  ABAETETUBA  ...                        BRANCA      2021-08-01\n",
              "\n",
              "[5 rows x 6 columns]"
            ]
          },
          "metadata": {},
          "execution_count": 11
        }
      ]
    },
    {
      "cell_type": "code",
      "metadata": {
        "colab": {
          "base_uri": "https://localhost:8080/",
          "height": 204
        },
        "id": "Yi3Do1Tm6Q8d",
        "outputId": "9a4388bd-fd88-45e5-f729-63d281686606"
      },
      "source": [
        "meu_df.query('`Data da Coleta`.dt.day == 20').head()"
      ],
      "execution_count": 12,
      "outputs": [
        {
          "output_type": "execute_result",
          "data": {
            "text/html": [
              "<div>\n",
              "<style scoped>\n",
              "    .dataframe tbody tr th:only-of-type {\n",
              "        vertical-align: middle;\n",
              "    }\n",
              "\n",
              "    .dataframe tbody tr th {\n",
              "        vertical-align: top;\n",
              "    }\n",
              "\n",
              "    .dataframe thead th {\n",
              "        text-align: right;\n",
              "    }\n",
              "</style>\n",
              "<table border=\"1\" class=\"dataframe\">\n",
              "  <thead>\n",
              "    <tr style=\"text-align: right;\">\n",
              "      <th></th>\n",
              "      <th>Estado - Sigla</th>\n",
              "      <th>Município</th>\n",
              "      <th>Produto</th>\n",
              "      <th>Valor de Venda</th>\n",
              "      <th>Bandeira</th>\n",
              "      <th>Data da Coleta</th>\n",
              "    </tr>\n",
              "  </thead>\n",
              "  <tbody>\n",
              "    <tr>\n",
              "      <th>34829</th>\n",
              "      <td>PR</td>\n",
              "      <td>MARINGA</td>\n",
              "      <td>GASOLINA</td>\n",
              "      <td>5.90</td>\n",
              "      <td>BRANCA</td>\n",
              "      <td>2021-08-20</td>\n",
              "    </tr>\n",
              "    <tr>\n",
              "      <th>34830</th>\n",
              "      <td>PR</td>\n",
              "      <td>MARINGA</td>\n",
              "      <td>GASOLINA ADITIVADA</td>\n",
              "      <td>5.90</td>\n",
              "      <td>BRANCA</td>\n",
              "      <td>2021-08-20</td>\n",
              "    </tr>\n",
              "    <tr>\n",
              "      <th>34831</th>\n",
              "      <td>PR</td>\n",
              "      <td>MARINGA</td>\n",
              "      <td>ETANOL</td>\n",
              "      <td>4.80</td>\n",
              "      <td>BRANCA</td>\n",
              "      <td>2021-08-20</td>\n",
              "    </tr>\n",
              "    <tr>\n",
              "      <th>34832</th>\n",
              "      <td>PR</td>\n",
              "      <td>MARINGA</td>\n",
              "      <td>GASOLINA ADITIVADA</td>\n",
              "      <td>5.99</td>\n",
              "      <td>PETROBRAS DISTRIBUIDORA S.A.</td>\n",
              "      <td>2021-08-20</td>\n",
              "    </tr>\n",
              "    <tr>\n",
              "      <th>34833</th>\n",
              "      <td>PR</td>\n",
              "      <td>MARINGA</td>\n",
              "      <td>ETANOL</td>\n",
              "      <td>4.69</td>\n",
              "      <td>PETROBRAS DISTRIBUIDORA S.A.</td>\n",
              "      <td>2021-08-20</td>\n",
              "    </tr>\n",
              "  </tbody>\n",
              "</table>\n",
              "</div>"
            ],
            "text/plain": [
              "      Estado - Sigla Município  ...                      Bandeira  Data da Coleta\n",
              "34829             PR   MARINGA  ...                        BRANCA      2021-08-20\n",
              "34830             PR   MARINGA  ...                        BRANCA      2021-08-20\n",
              "34831             PR   MARINGA  ...                        BRANCA      2021-08-20\n",
              "34832             PR   MARINGA  ...  PETROBRAS DISTRIBUIDORA S.A.      2021-08-20\n",
              "34833             PR   MARINGA  ...  PETROBRAS DISTRIBUIDORA S.A.      2021-08-20\n",
              "\n",
              "[5 rows x 6 columns]"
            ]
          },
          "metadata": {},
          "execution_count": 12
        }
      ]
    },
    {
      "cell_type": "code",
      "metadata": {
        "colab": {
          "base_uri": "https://localhost:8080/",
          "height": 204
        },
        "id": "C5HbpG_e-vU1",
        "outputId": "bd41200b-5d6f-4ddb-c02b-b09686e103d7"
      },
      "source": [
        "#Diferente de !=\n",
        "#Irá devolver todas as linhas do DataFrame exceto as que contêm o valor passado na coluna consultada:\n",
        "\n",
        "meu_df.query('`Estado - Sigla` != \"CE\"').head()"
      ],
      "execution_count": 13,
      "outputs": [
        {
          "output_type": "execute_result",
          "data": {
            "text/html": [
              "<div>\n",
              "<style scoped>\n",
              "    .dataframe tbody tr th:only-of-type {\n",
              "        vertical-align: middle;\n",
              "    }\n",
              "\n",
              "    .dataframe tbody tr th {\n",
              "        vertical-align: top;\n",
              "    }\n",
              "\n",
              "    .dataframe thead th {\n",
              "        text-align: right;\n",
              "    }\n",
              "</style>\n",
              "<table border=\"1\" class=\"dataframe\">\n",
              "  <thead>\n",
              "    <tr style=\"text-align: right;\">\n",
              "      <th></th>\n",
              "      <th>Estado - Sigla</th>\n",
              "      <th>Município</th>\n",
              "      <th>Produto</th>\n",
              "      <th>Valor de Venda</th>\n",
              "      <th>Bandeira</th>\n",
              "      <th>Data da Coleta</th>\n",
              "    </tr>\n",
              "  </thead>\n",
              "  <tbody>\n",
              "    <tr>\n",
              "      <th>0</th>\n",
              "      <td>BA</td>\n",
              "      <td>ILHEUS</td>\n",
              "      <td>GASOLINA</td>\n",
              "      <td>6.14</td>\n",
              "      <td>BRANCA</td>\n",
              "      <td>2021-08-01</td>\n",
              "    </tr>\n",
              "    <tr>\n",
              "      <th>1</th>\n",
              "      <td>BA</td>\n",
              "      <td>ILHEUS</td>\n",
              "      <td>ETANOL</td>\n",
              "      <td>5.15</td>\n",
              "      <td>BRANCA</td>\n",
              "      <td>2021-08-01</td>\n",
              "    </tr>\n",
              "    <tr>\n",
              "      <th>2</th>\n",
              "      <td>BA</td>\n",
              "      <td>ILHEUS</td>\n",
              "      <td>GASOLINA ADITIVADA</td>\n",
              "      <td>6.14</td>\n",
              "      <td>BRANCA</td>\n",
              "      <td>2021-08-01</td>\n",
              "    </tr>\n",
              "    <tr>\n",
              "      <th>3</th>\n",
              "      <td>BA</td>\n",
              "      <td>ILHEUS</td>\n",
              "      <td>GASOLINA</td>\n",
              "      <td>6.13</td>\n",
              "      <td>BRANCA</td>\n",
              "      <td>2021-08-01</td>\n",
              "    </tr>\n",
              "    <tr>\n",
              "      <th>4</th>\n",
              "      <td>BA</td>\n",
              "      <td>ILHEUS</td>\n",
              "      <td>ETANOL</td>\n",
              "      <td>5.13</td>\n",
              "      <td>BRANCA</td>\n",
              "      <td>2021-08-01</td>\n",
              "    </tr>\n",
              "  </tbody>\n",
              "</table>\n",
              "</div>"
            ],
            "text/plain": [
              "  Estado - Sigla Município  ... Bandeira  Data da Coleta\n",
              "0             BA    ILHEUS  ...   BRANCA      2021-08-01\n",
              "1             BA    ILHEUS  ...   BRANCA      2021-08-01\n",
              "2             BA    ILHEUS  ...   BRANCA      2021-08-01\n",
              "3             BA    ILHEUS  ...   BRANCA      2021-08-01\n",
              "4             BA    ILHEUS  ...   BRANCA      2021-08-01\n",
              "\n",
              "[5 rows x 6 columns]"
            ]
          },
          "metadata": {},
          "execution_count": 13
        }
      ]
    },
    {
      "cell_type": "code",
      "metadata": {
        "colab": {
          "base_uri": "https://localhost:8080/",
          "height": 204
        },
        "id": "mA2Ix3Q1-vc6",
        "outputId": "61dec4cf-7e3b-47f1-e9d8-9c8833349257"
      },
      "source": [
        "meu_df.query('`Valor de Venda` > 7.09').head()"
      ],
      "execution_count": 14,
      "outputs": [
        {
          "output_type": "execute_result",
          "data": {
            "text/html": [
              "<div>\n",
              "<style scoped>\n",
              "    .dataframe tbody tr th:only-of-type {\n",
              "        vertical-align: middle;\n",
              "    }\n",
              "\n",
              "    .dataframe tbody tr th {\n",
              "        vertical-align: top;\n",
              "    }\n",
              "\n",
              "    .dataframe thead th {\n",
              "        text-align: right;\n",
              "    }\n",
              "</style>\n",
              "<table border=\"1\" class=\"dataframe\">\n",
              "  <thead>\n",
              "    <tr style=\"text-align: right;\">\n",
              "      <th></th>\n",
              "      <th>Estado - Sigla</th>\n",
              "      <th>Município</th>\n",
              "      <th>Produto</th>\n",
              "      <th>Valor de Venda</th>\n",
              "      <th>Bandeira</th>\n",
              "      <th>Data da Coleta</th>\n",
              "    </tr>\n",
              "  </thead>\n",
              "  <tbody>\n",
              "    <tr>\n",
              "      <th>7877</th>\n",
              "      <td>RS</td>\n",
              "      <td>BAGE</td>\n",
              "      <td>GASOLINA ADITIVADA</td>\n",
              "      <td>7.181</td>\n",
              "      <td>PETROBRAS DISTRIBUIDORA S.A.</td>\n",
              "      <td>2021-08-04</td>\n",
              "    </tr>\n",
              "    <tr>\n",
              "      <th>7880</th>\n",
              "      <td>RS</td>\n",
              "      <td>BAGE</td>\n",
              "      <td>GASOLINA ADITIVADA</td>\n",
              "      <td>7.166</td>\n",
              "      <td>IPIRANGA</td>\n",
              "      <td>2021-08-04</td>\n",
              "    </tr>\n",
              "    <tr>\n",
              "      <th>10012</th>\n",
              "      <td>RS</td>\n",
              "      <td>BAGE</td>\n",
              "      <td>GASOLINA ADITIVADA</td>\n",
              "      <td>7.099</td>\n",
              "      <td>BRANCA</td>\n",
              "      <td>2021-08-04</td>\n",
              "    </tr>\n",
              "    <tr>\n",
              "      <th>10019</th>\n",
              "      <td>RS</td>\n",
              "      <td>BAGE</td>\n",
              "      <td>GASOLINA ADITIVADA</td>\n",
              "      <td>7.181</td>\n",
              "      <td>PETROBRAS DISTRIBUIDORA S.A.</td>\n",
              "      <td>2021-08-04</td>\n",
              "    </tr>\n",
              "    <tr>\n",
              "      <th>10024</th>\n",
              "      <td>RS</td>\n",
              "      <td>BAGE</td>\n",
              "      <td>GASOLINA ADITIVADA</td>\n",
              "      <td>7.099</td>\n",
              "      <td>IPIRANGA</td>\n",
              "      <td>2021-08-04</td>\n",
              "    </tr>\n",
              "  </tbody>\n",
              "</table>\n",
              "</div>"
            ],
            "text/plain": [
              "      Estado - Sigla Município  ...                      Bandeira  Data da Coleta\n",
              "7877              RS      BAGE  ...  PETROBRAS DISTRIBUIDORA S.A.      2021-08-04\n",
              "7880              RS      BAGE  ...                      IPIRANGA      2021-08-04\n",
              "10012             RS      BAGE  ...                        BRANCA      2021-08-04\n",
              "10019             RS      BAGE  ...  PETROBRAS DISTRIBUIDORA S.A.      2021-08-04\n",
              "10024             RS      BAGE  ...                      IPIRANGA      2021-08-04\n",
              "\n",
              "[5 rows x 6 columns]"
            ]
          },
          "metadata": {},
          "execution_count": 14
        }
      ]
    },
    {
      "cell_type": "code",
      "metadata": {
        "colab": {
          "base_uri": "https://localhost:8080/",
          "height": 49
        },
        "id": "5BSSWQ83_e2b",
        "outputId": "d650ee79-edad-469a-e5c4-e85203f6b736"
      },
      "source": [
        "meu_df.query('`Estado - Sigla` == \"RJ\" and Bandeira == \"IPIRANGA\" and `Valor de Venda` < 4.800')"
      ],
      "execution_count": 15,
      "outputs": [
        {
          "output_type": "execute_result",
          "data": {
            "text/html": [
              "<div>\n",
              "<style scoped>\n",
              "    .dataframe tbody tr th:only-of-type {\n",
              "        vertical-align: middle;\n",
              "    }\n",
              "\n",
              "    .dataframe tbody tr th {\n",
              "        vertical-align: top;\n",
              "    }\n",
              "\n",
              "    .dataframe thead th {\n",
              "        text-align: right;\n",
              "    }\n",
              "</style>\n",
              "<table border=\"1\" class=\"dataframe\">\n",
              "  <thead>\n",
              "    <tr style=\"text-align: right;\">\n",
              "      <th></th>\n",
              "      <th>Estado - Sigla</th>\n",
              "      <th>Município</th>\n",
              "      <th>Produto</th>\n",
              "      <th>Valor de Venda</th>\n",
              "      <th>Bandeira</th>\n",
              "      <th>Data da Coleta</th>\n",
              "    </tr>\n",
              "  </thead>\n",
              "  <tbody>\n",
              "  </tbody>\n",
              "</table>\n",
              "</div>"
            ],
            "text/plain": [
              "Empty DataFrame\n",
              "Columns: [Estado - Sigla, Município, Produto, Valor de Venda, Bandeira, Data da Coleta]\n",
              "Index: []"
            ]
          },
          "metadata": {},
          "execution_count": 15
        }
      ]
    },
    {
      "cell_type": "code",
      "metadata": {
        "colab": {
          "base_uri": "https://localhost:8080/",
          "height": 204
        },
        "id": "uyK9g8XxBgoP",
        "outputId": "cc51fd77-0aae-4fdd-a068-8af19759c56a"
      },
      "source": [
        "meu_df.query('`Estado - Sigla` == \"SP\" & Produto == \"GASOLINA\" & `Valor de Venda` > 6.0').head()"
      ],
      "execution_count": 16,
      "outputs": [
        {
          "output_type": "execute_result",
          "data": {
            "text/html": [
              "<div>\n",
              "<style scoped>\n",
              "    .dataframe tbody tr th:only-of-type {\n",
              "        vertical-align: middle;\n",
              "    }\n",
              "\n",
              "    .dataframe tbody tr th {\n",
              "        vertical-align: top;\n",
              "    }\n",
              "\n",
              "    .dataframe thead th {\n",
              "        text-align: right;\n",
              "    }\n",
              "</style>\n",
              "<table border=\"1\" class=\"dataframe\">\n",
              "  <thead>\n",
              "    <tr style=\"text-align: right;\">\n",
              "      <th></th>\n",
              "      <th>Estado - Sigla</th>\n",
              "      <th>Município</th>\n",
              "      <th>Produto</th>\n",
              "      <th>Valor de Venda</th>\n",
              "      <th>Bandeira</th>\n",
              "      <th>Data da Coleta</th>\n",
              "    </tr>\n",
              "  </thead>\n",
              "  <tbody>\n",
              "    <tr>\n",
              "      <th>3121</th>\n",
              "      <td>SP</td>\n",
              "      <td>LINS</td>\n",
              "      <td>GASOLINA</td>\n",
              "      <td>6.289</td>\n",
              "      <td>IPIRANGA</td>\n",
              "      <td>2021-08-02</td>\n",
              "    </tr>\n",
              "    <tr>\n",
              "      <th>6878</th>\n",
              "      <td>SP</td>\n",
              "      <td>TAUBATE</td>\n",
              "      <td>GASOLINA</td>\n",
              "      <td>6.199</td>\n",
              "      <td>PETROBRAS DISTRIBUIDORA S.A.</td>\n",
              "      <td>2021-08-03</td>\n",
              "    </tr>\n",
              "    <tr>\n",
              "      <th>8059</th>\n",
              "      <td>SP</td>\n",
              "      <td>ITANHAEM</td>\n",
              "      <td>GASOLINA</td>\n",
              "      <td>6.149</td>\n",
              "      <td>IPIRANGA</td>\n",
              "      <td>2021-08-04</td>\n",
              "    </tr>\n",
              "    <tr>\n",
              "      <th>8062</th>\n",
              "      <td>SP</td>\n",
              "      <td>ITANHAEM</td>\n",
              "      <td>GASOLINA</td>\n",
              "      <td>6.399</td>\n",
              "      <td>IPIRANGA</td>\n",
              "      <td>2021-08-04</td>\n",
              "    </tr>\n",
              "    <tr>\n",
              "      <th>8205</th>\n",
              "      <td>SP</td>\n",
              "      <td>SAO PAULO</td>\n",
              "      <td>GASOLINA</td>\n",
              "      <td>6.299</td>\n",
              "      <td>IPIRANGA</td>\n",
              "      <td>2021-08-04</td>\n",
              "    </tr>\n",
              "  </tbody>\n",
              "</table>\n",
              "</div>"
            ],
            "text/plain": [
              "     Estado - Sigla  Município  ...                      Bandeira  Data da Coleta\n",
              "3121             SP       LINS  ...                      IPIRANGA      2021-08-02\n",
              "6878             SP    TAUBATE  ...  PETROBRAS DISTRIBUIDORA S.A.      2021-08-03\n",
              "8059             SP   ITANHAEM  ...                      IPIRANGA      2021-08-04\n",
              "8062             SP   ITANHAEM  ...                      IPIRANGA      2021-08-04\n",
              "8205             SP  SAO PAULO  ...                      IPIRANGA      2021-08-04\n",
              "\n",
              "[5 rows x 6 columns]"
            ]
          },
          "metadata": {},
          "execution_count": 16
        }
      ]
    },
    {
      "cell_type": "code",
      "metadata": {
        "colab": {
          "base_uri": "https://localhost:8080/",
          "height": 111
        },
        "id": "3q-mklGWBxtS",
        "outputId": "51b48271-2638-4380-d2ba-a92e799e165e"
      },
      "source": [
        "meu_df.query('`Valor de Venda` == 7.069 | `Data da Coleta` == \"2021-07-21\"').head()"
      ],
      "execution_count": 17,
      "outputs": [
        {
          "output_type": "execute_result",
          "data": {
            "text/html": [
              "<div>\n",
              "<style scoped>\n",
              "    .dataframe tbody tr th:only-of-type {\n",
              "        vertical-align: middle;\n",
              "    }\n",
              "\n",
              "    .dataframe tbody tr th {\n",
              "        vertical-align: top;\n",
              "    }\n",
              "\n",
              "    .dataframe thead th {\n",
              "        text-align: right;\n",
              "    }\n",
              "</style>\n",
              "<table border=\"1\" class=\"dataframe\">\n",
              "  <thead>\n",
              "    <tr style=\"text-align: right;\">\n",
              "      <th></th>\n",
              "      <th>Estado - Sigla</th>\n",
              "      <th>Município</th>\n",
              "      <th>Produto</th>\n",
              "      <th>Valor de Venda</th>\n",
              "      <th>Bandeira</th>\n",
              "      <th>Data da Coleta</th>\n",
              "    </tr>\n",
              "  </thead>\n",
              "  <tbody>\n",
              "    <tr>\n",
              "      <th>31227</th>\n",
              "      <td>RS</td>\n",
              "      <td>BAGE</td>\n",
              "      <td>GASOLINA ADITIVADA</td>\n",
              "      <td>7.069</td>\n",
              "      <td>IPIRANGA</td>\n",
              "      <td>2021-08-18</td>\n",
              "    </tr>\n",
              "    <tr>\n",
              "      <th>31228</th>\n",
              "      <td>RS</td>\n",
              "      <td>BAGE</td>\n",
              "      <td>GASOLINA</td>\n",
              "      <td>7.069</td>\n",
              "      <td>IPIRANGA</td>\n",
              "      <td>2021-08-18</td>\n",
              "    </tr>\n",
              "  </tbody>\n",
              "</table>\n",
              "</div>"
            ],
            "text/plain": [
              "      Estado - Sigla Município  ...  Bandeira  Data da Coleta\n",
              "31227             RS      BAGE  ...  IPIRANGA      2021-08-18\n",
              "31228             RS      BAGE  ...  IPIRANGA      2021-08-18\n",
              "\n",
              "[2 rows x 6 columns]"
            ]
          },
          "metadata": {},
          "execution_count": 17
        }
      ]
    },
    {
      "cell_type": "code",
      "metadata": {
        "colab": {
          "base_uri": "https://localhost:8080/",
          "height": 204
        },
        "id": "sxhJDFhtDP-F",
        "outputId": "c3e586c5-e956-4e66-8393-7cca58dfb9fe"
      },
      "source": [
        "meu_df.query('`Valor de Venda` > 5.0 and Município in [\"SAO PAULO\", \"CURITIBA\"]').head()"
      ],
      "execution_count": 18,
      "outputs": [
        {
          "output_type": "execute_result",
          "data": {
            "text/html": [
              "<div>\n",
              "<style scoped>\n",
              "    .dataframe tbody tr th:only-of-type {\n",
              "        vertical-align: middle;\n",
              "    }\n",
              "\n",
              "    .dataframe tbody tr th {\n",
              "        vertical-align: top;\n",
              "    }\n",
              "\n",
              "    .dataframe thead th {\n",
              "        text-align: right;\n",
              "    }\n",
              "</style>\n",
              "<table border=\"1\" class=\"dataframe\">\n",
              "  <thead>\n",
              "    <tr style=\"text-align: right;\">\n",
              "      <th></th>\n",
              "      <th>Estado - Sigla</th>\n",
              "      <th>Município</th>\n",
              "      <th>Produto</th>\n",
              "      <th>Valor de Venda</th>\n",
              "      <th>Bandeira</th>\n",
              "      <th>Data da Coleta</th>\n",
              "    </tr>\n",
              "  </thead>\n",
              "  <tbody>\n",
              "    <tr>\n",
              "      <th>2764</th>\n",
              "      <td>SP</td>\n",
              "      <td>SAO PAULO</td>\n",
              "      <td>GASOLINA</td>\n",
              "      <td>5.199</td>\n",
              "      <td>ALESAT</td>\n",
              "      <td>2021-08-02</td>\n",
              "    </tr>\n",
              "    <tr>\n",
              "      <th>2766</th>\n",
              "      <td>SP</td>\n",
              "      <td>SAO PAULO</td>\n",
              "      <td>GASOLINA ADITIVADA</td>\n",
              "      <td>5.399</td>\n",
              "      <td>ALESAT</td>\n",
              "      <td>2021-08-02</td>\n",
              "    </tr>\n",
              "    <tr>\n",
              "      <th>4951</th>\n",
              "      <td>SP</td>\n",
              "      <td>SAO PAULO</td>\n",
              "      <td>GASOLINA</td>\n",
              "      <td>5.299</td>\n",
              "      <td>BRANCA</td>\n",
              "      <td>2021-08-03</td>\n",
              "    </tr>\n",
              "    <tr>\n",
              "      <th>4952</th>\n",
              "      <td>SP</td>\n",
              "      <td>SAO PAULO</td>\n",
              "      <td>GASOLINA ADITIVADA</td>\n",
              "      <td>5.899</td>\n",
              "      <td>PETROBRAS DISTRIBUIDORA S.A.</td>\n",
              "      <td>2021-08-03</td>\n",
              "    </tr>\n",
              "    <tr>\n",
              "      <th>4954</th>\n",
              "      <td>SP</td>\n",
              "      <td>SAO PAULO</td>\n",
              "      <td>GASOLINA</td>\n",
              "      <td>5.699</td>\n",
              "      <td>PETROBRAS DISTRIBUIDORA S.A.</td>\n",
              "      <td>2021-08-03</td>\n",
              "    </tr>\n",
              "  </tbody>\n",
              "</table>\n",
              "</div>"
            ],
            "text/plain": [
              "     Estado - Sigla  Município  ...                      Bandeira  Data da Coleta\n",
              "2764             SP  SAO PAULO  ...                        ALESAT      2021-08-02\n",
              "2766             SP  SAO PAULO  ...                        ALESAT      2021-08-02\n",
              "4951             SP  SAO PAULO  ...                        BRANCA      2021-08-03\n",
              "4952             SP  SAO PAULO  ...  PETROBRAS DISTRIBUIDORA S.A.      2021-08-03\n",
              "4954             SP  SAO PAULO  ...  PETROBRAS DISTRIBUIDORA S.A.      2021-08-03\n",
              "\n",
              "[5 rows x 6 columns]"
            ]
          },
          "metadata": {},
          "execution_count": 18
        }
      ]
    },
    {
      "cell_type": "code",
      "metadata": {
        "colab": {
          "base_uri": "https://localhost:8080/",
          "height": 204
        },
        "id": "lzBv0ppaEJ6z",
        "outputId": "72a04000-0668-463b-aad1-b76a9a27fb77"
      },
      "source": [
        "#criando uma list (cidades)\n",
        "cidades = ['SAO PAULO', 'CURITIBA', 'RIO DE JANEIRO']\n",
        "#Utilizando a lista para verificar as condições\n",
        "meu_df.query('`Valor de Venda` > 6.0 and Município in @cidades').head()"
      ],
      "execution_count": 19,
      "outputs": [
        {
          "output_type": "execute_result",
          "data": {
            "text/html": [
              "<div>\n",
              "<style scoped>\n",
              "    .dataframe tbody tr th:only-of-type {\n",
              "        vertical-align: middle;\n",
              "    }\n",
              "\n",
              "    .dataframe tbody tr th {\n",
              "        vertical-align: top;\n",
              "    }\n",
              "\n",
              "    .dataframe thead th {\n",
              "        text-align: right;\n",
              "    }\n",
              "</style>\n",
              "<table border=\"1\" class=\"dataframe\">\n",
              "  <thead>\n",
              "    <tr style=\"text-align: right;\">\n",
              "      <th></th>\n",
              "      <th>Estado - Sigla</th>\n",
              "      <th>Município</th>\n",
              "      <th>Produto</th>\n",
              "      <th>Valor de Venda</th>\n",
              "      <th>Bandeira</th>\n",
              "      <th>Data da Coleta</th>\n",
              "    </tr>\n",
              "  </thead>\n",
              "  <tbody>\n",
              "    <tr>\n",
              "      <th>1280</th>\n",
              "      <td>RJ</td>\n",
              "      <td>RIO DE JANEIRO</td>\n",
              "      <td>GASOLINA</td>\n",
              "      <td>6.399</td>\n",
              "      <td>RAIZEN</td>\n",
              "      <td>2021-08-02</td>\n",
              "    </tr>\n",
              "    <tr>\n",
              "      <th>1282</th>\n",
              "      <td>RJ</td>\n",
              "      <td>RIO DE JANEIRO</td>\n",
              "      <td>GASOLINA ADITIVADA</td>\n",
              "      <td>6.599</td>\n",
              "      <td>RAIZEN</td>\n",
              "      <td>2021-08-02</td>\n",
              "    </tr>\n",
              "    <tr>\n",
              "      <th>1283</th>\n",
              "      <td>RJ</td>\n",
              "      <td>RIO DE JANEIRO</td>\n",
              "      <td>GASOLINA</td>\n",
              "      <td>6.197</td>\n",
              "      <td>BRANCA</td>\n",
              "      <td>2021-08-02</td>\n",
              "    </tr>\n",
              "    <tr>\n",
              "      <th>1285</th>\n",
              "      <td>RJ</td>\n",
              "      <td>RIO DE JANEIRO</td>\n",
              "      <td>GASOLINA ADITIVADA</td>\n",
              "      <td>6.397</td>\n",
              "      <td>BRANCA</td>\n",
              "      <td>2021-08-02</td>\n",
              "    </tr>\n",
              "    <tr>\n",
              "      <th>1286</th>\n",
              "      <td>RJ</td>\n",
              "      <td>RIO DE JANEIRO</td>\n",
              "      <td>GASOLINA</td>\n",
              "      <td>6.628</td>\n",
              "      <td>IPIRANGA</td>\n",
              "      <td>2021-08-02</td>\n",
              "    </tr>\n",
              "  </tbody>\n",
              "</table>\n",
              "</div>"
            ],
            "text/plain": [
              "     Estado - Sigla       Município  ...  Bandeira  Data da Coleta\n",
              "1280             RJ  RIO DE JANEIRO  ...    RAIZEN      2021-08-02\n",
              "1282             RJ  RIO DE JANEIRO  ...    RAIZEN      2021-08-02\n",
              "1283             RJ  RIO DE JANEIRO  ...    BRANCA      2021-08-02\n",
              "1285             RJ  RIO DE JANEIRO  ...    BRANCA      2021-08-02\n",
              "1286             RJ  RIO DE JANEIRO  ...  IPIRANGA      2021-08-02\n",
              "\n",
              "[5 rows x 6 columns]"
            ]
          },
          "metadata": {},
          "execution_count": 19
        }
      ]
    },
    {
      "cell_type": "code",
      "metadata": {
        "colab": {
          "base_uri": "https://localhost:8080/",
          "height": 204
        },
        "id": "Twn4S0GBEulv",
        "outputId": "c6b970b5-f227-4f30-c0fb-7bf723cf9e8f"
      },
      "source": [
        "cidades = ['SAO PAULO', 'CURITIBA', 'RIO DE JANEIRO']\n",
        "meu_df.query('`Valor de Venda` > 6.0 and Município not in @cidades').head()"
      ],
      "execution_count": 20,
      "outputs": [
        {
          "output_type": "execute_result",
          "data": {
            "text/html": [
              "<div>\n",
              "<style scoped>\n",
              "    .dataframe tbody tr th:only-of-type {\n",
              "        vertical-align: middle;\n",
              "    }\n",
              "\n",
              "    .dataframe tbody tr th {\n",
              "        vertical-align: top;\n",
              "    }\n",
              "\n",
              "    .dataframe thead th {\n",
              "        text-align: right;\n",
              "    }\n",
              "</style>\n",
              "<table border=\"1\" class=\"dataframe\">\n",
              "  <thead>\n",
              "    <tr style=\"text-align: right;\">\n",
              "      <th></th>\n",
              "      <th>Estado - Sigla</th>\n",
              "      <th>Município</th>\n",
              "      <th>Produto</th>\n",
              "      <th>Valor de Venda</th>\n",
              "      <th>Bandeira</th>\n",
              "      <th>Data da Coleta</th>\n",
              "    </tr>\n",
              "  </thead>\n",
              "  <tbody>\n",
              "    <tr>\n",
              "      <th>0</th>\n",
              "      <td>BA</td>\n",
              "      <td>ILHEUS</td>\n",
              "      <td>GASOLINA</td>\n",
              "      <td>6.140</td>\n",
              "      <td>BRANCA</td>\n",
              "      <td>2021-08-01</td>\n",
              "    </tr>\n",
              "    <tr>\n",
              "      <th>2</th>\n",
              "      <td>BA</td>\n",
              "      <td>ILHEUS</td>\n",
              "      <td>GASOLINA ADITIVADA</td>\n",
              "      <td>6.140</td>\n",
              "      <td>BRANCA</td>\n",
              "      <td>2021-08-01</td>\n",
              "    </tr>\n",
              "    <tr>\n",
              "      <th>3</th>\n",
              "      <td>BA</td>\n",
              "      <td>ILHEUS</td>\n",
              "      <td>GASOLINA</td>\n",
              "      <td>6.130</td>\n",
              "      <td>BRANCA</td>\n",
              "      <td>2021-08-01</td>\n",
              "    </tr>\n",
              "    <tr>\n",
              "      <th>5</th>\n",
              "      <td>BA</td>\n",
              "      <td>ILHEUS</td>\n",
              "      <td>GASOLINA ADITIVADA</td>\n",
              "      <td>6.130</td>\n",
              "      <td>BRANCA</td>\n",
              "      <td>2021-08-01</td>\n",
              "    </tr>\n",
              "    <tr>\n",
              "      <th>6</th>\n",
              "      <td>BA</td>\n",
              "      <td>ILHEUS</td>\n",
              "      <td>GASOLINA</td>\n",
              "      <td>6.299</td>\n",
              "      <td>BRANCA</td>\n",
              "      <td>2021-08-01</td>\n",
              "    </tr>\n",
              "  </tbody>\n",
              "</table>\n",
              "</div>"
            ],
            "text/plain": [
              "  Estado - Sigla Município  ... Bandeira  Data da Coleta\n",
              "0             BA    ILHEUS  ...   BRANCA      2021-08-01\n",
              "2             BA    ILHEUS  ...   BRANCA      2021-08-01\n",
              "3             BA    ILHEUS  ...   BRANCA      2021-08-01\n",
              "5             BA    ILHEUS  ...   BRANCA      2021-08-01\n",
              "6             BA    ILHEUS  ...   BRANCA      2021-08-01\n",
              "\n",
              "[5 rows x 6 columns]"
            ]
          },
          "metadata": {},
          "execution_count": 20
        }
      ]
    },
    {
      "cell_type": "code",
      "metadata": {
        "colab": {
          "base_uri": "https://localhost:8080/"
        },
        "id": "i3Lboq5rFOMK",
        "outputId": "d0ebd321-93b6-491b-b7b6-f5d72b3a1f98"
      },
      "source": [
        "meu_df.query('Produto == \"GASOLINA\"')['Valor de Venda'].max()"
      ],
      "execution_count": 21,
      "outputs": [
        {
          "output_type": "execute_result",
          "data": {
            "text/plain": [
              "7.218999999999999"
            ]
          },
          "metadata": {},
          "execution_count": 21
        }
      ]
    },
    {
      "cell_type": "code",
      "metadata": {
        "colab": {
          "base_uri": "https://localhost:8080/",
          "height": 111
        },
        "id": "6APdzES2F3OJ",
        "outputId": "cd06bfeb-3a16-4f6f-ee29-254760ebd9a5"
      },
      "source": [
        "meu_df.query('Produto == \"GASOLINA\" & `Valor de Venda` == 7.218999999999999')"
      ],
      "execution_count": 22,
      "outputs": [
        {
          "output_type": "execute_result",
          "data": {
            "text/html": [
              "<div>\n",
              "<style scoped>\n",
              "    .dataframe tbody tr th:only-of-type {\n",
              "        vertical-align: middle;\n",
              "    }\n",
              "\n",
              "    .dataframe tbody tr th {\n",
              "        vertical-align: top;\n",
              "    }\n",
              "\n",
              "    .dataframe thead th {\n",
              "        text-align: right;\n",
              "    }\n",
              "</style>\n",
              "<table border=\"1\" class=\"dataframe\">\n",
              "  <thead>\n",
              "    <tr style=\"text-align: right;\">\n",
              "      <th></th>\n",
              "      <th>Estado - Sigla</th>\n",
              "      <th>Município</th>\n",
              "      <th>Produto</th>\n",
              "      <th>Valor de Venda</th>\n",
              "      <th>Bandeira</th>\n",
              "      <th>Data da Coleta</th>\n",
              "    </tr>\n",
              "  </thead>\n",
              "  <tbody>\n",
              "    <tr>\n",
              "      <th>45477</th>\n",
              "      <td>RS</td>\n",
              "      <td>BAGE</td>\n",
              "      <td>GASOLINA</td>\n",
              "      <td>7.219</td>\n",
              "      <td>IPIRANGA</td>\n",
              "      <td>2021-08-26</td>\n",
              "    </tr>\n",
              "    <tr>\n",
              "      <th>46042</th>\n",
              "      <td>RS</td>\n",
              "      <td>BAGE</td>\n",
              "      <td>GASOLINA</td>\n",
              "      <td>7.219</td>\n",
              "      <td>IPIRANGA</td>\n",
              "      <td>2021-08-26</td>\n",
              "    </tr>\n",
              "  </tbody>\n",
              "</table>\n",
              "</div>"
            ],
            "text/plain": [
              "      Estado - Sigla Município  ...  Bandeira  Data da Coleta\n",
              "45477             RS      BAGE  ...  IPIRANGA      2021-08-26\n",
              "46042             RS      BAGE  ...  IPIRANGA      2021-08-26\n",
              "\n",
              "[2 rows x 6 columns]"
            ]
          },
          "metadata": {},
          "execution_count": 22
        }
      ]
    },
    {
      "cell_type": "code",
      "metadata": {
        "colab": {
          "base_uri": "https://localhost:8080/"
        },
        "id": "uC5zYz1EGZmQ",
        "outputId": "942fd54d-5464-4544-891f-c164796f047d"
      },
      "source": [
        "#Valor Maximo da Gasolina\n",
        "meu_df.query('`Estado - Sigla` == \"RJ\" & Produto == \"GASOLINA\"')['Valor de Venda'].max()"
      ],
      "execution_count": 23,
      "outputs": [
        {
          "output_type": "execute_result",
          "data": {
            "text/plain": [
              "7.059"
            ]
          },
          "metadata": {},
          "execution_count": 23
        }
      ]
    },
    {
      "cell_type": "code",
      "metadata": {
        "colab": {
          "base_uri": "https://localhost:8080/"
        },
        "id": "c54MseZrnxi3",
        "outputId": "e45970a5-4d8c-4374-daa6-2f40f5eced1d"
      },
      "source": [
        "#Media de Preço da Gasolina\n",
        "meu_df.query('`Estado - Sigla` == \"RJ\" & Produto == \"GASOLINA\"')['Valor de Venda'].mean()"
      ],
      "execution_count": 24,
      "outputs": [
        {
          "output_type": "execute_result",
          "data": {
            "text/plain": [
              "6.493716417910447"
            ]
          },
          "metadata": {},
          "execution_count": 24
        }
      ]
    },
    {
      "cell_type": "code",
      "metadata": {
        "colab": {
          "base_uri": "https://localhost:8080/",
          "height": 111
        },
        "id": "hsoRgVUmIQcU",
        "outputId": "ad37ffa6-31f8-4eee-9fa9-e6ccd37609db"
      },
      "source": [
        "#Valor Maximo do preço da Gasolina\n",
        "meu_df.query('`Estado - Sigla` == \"RJ\" & `Valor de Venda` == 7.059')"
      ],
      "execution_count": 26,
      "outputs": [
        {
          "output_type": "execute_result",
          "data": {
            "text/html": [
              "<div>\n",
              "<style scoped>\n",
              "    .dataframe tbody tr th:only-of-type {\n",
              "        vertical-align: middle;\n",
              "    }\n",
              "\n",
              "    .dataframe tbody tr th {\n",
              "        vertical-align: top;\n",
              "    }\n",
              "\n",
              "    .dataframe thead th {\n",
              "        text-align: right;\n",
              "    }\n",
              "</style>\n",
              "<table border=\"1\" class=\"dataframe\">\n",
              "  <thead>\n",
              "    <tr style=\"text-align: right;\">\n",
              "      <th></th>\n",
              "      <th>Estado - Sigla</th>\n",
              "      <th>Município</th>\n",
              "      <th>Produto</th>\n",
              "      <th>Valor de Venda</th>\n",
              "      <th>Bandeira</th>\n",
              "      <th>Data da Coleta</th>\n",
              "    </tr>\n",
              "  </thead>\n",
              "  <tbody>\n",
              "    <tr>\n",
              "      <th>34105</th>\n",
              "      <td>RJ</td>\n",
              "      <td>BARRA MANSA</td>\n",
              "      <td>GASOLINA</td>\n",
              "      <td>7.059</td>\n",
              "      <td>IPIRANGA</td>\n",
              "      <td>2021-08-19</td>\n",
              "    </tr>\n",
              "    <tr>\n",
              "      <th>45897</th>\n",
              "      <td>RJ</td>\n",
              "      <td>BARRA MANSA</td>\n",
              "      <td>GASOLINA</td>\n",
              "      <td>7.059</td>\n",
              "      <td>IPIRANGA</td>\n",
              "      <td>2021-08-26</td>\n",
              "    </tr>\n",
              "  </tbody>\n",
              "</table>\n",
              "</div>"
            ],
            "text/plain": [
              "      Estado - Sigla    Município  ...  Bandeira  Data da Coleta\n",
              "34105             RJ  BARRA MANSA  ...  IPIRANGA      2021-08-19\n",
              "45897             RJ  BARRA MANSA  ...  IPIRANGA      2021-08-26\n",
              "\n",
              "[2 rows x 6 columns]"
            ]
          },
          "metadata": {},
          "execution_count": 26
        }
      ]
    }
  ]
}